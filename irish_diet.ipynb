{
 "cells": [
  {
   "cell_type": "code",
   "execution_count": 96,
   "metadata": {
    "collapsed": true
   },
   "outputs": [],
   "source": [
    "import math\n",
    "import csv\n",
    "import random\n",
    "import numpy as np\n",
    "from scipy import optimize"
   ]
  },
  {
   "cell_type": "code",
   "execution_count": 97,
   "metadata": {
    "collapsed": false
   },
   "outputs": [],
   "source": [
    "with open('mydatabase.csv') as f:\n",
    "    reader = csv.reader(f)\n",
    "    my_data = list(reader)\n",
    "\n",
    "my_data[0][0]='Food'"
   ]
  },
  {
   "cell_type": "code",
   "execution_count": 98,
   "metadata": {
    "collapsed": true
   },
   "outputs": [],
   "source": [
    "with open('foodcosts.csv') as f:\n",
    "    reader = csv.reader(f)\n",
    "    my_costs = list(reader)\n",
    "\n",
    "#Cost per 100g of food item\n",
    "food_costs=np.array([i[3] for i in my_costs[1::]],dtype=float)"
   ]
  },
  {
   "cell_type": "code",
   "execution_count": 99,
   "metadata": {
    "collapsed": false
   },
   "outputs": [
    {
     "name": "stdout",
     "output_type": "stream",
     "text": [
      "['White, self raising flour', 'Brown, wholemeal flour', 'Bread, white sliced pan', 'Bread, brown sliced pan', 'Spaghett', 'Sirloin steak', 'Roast beef - topside or rib', 'Sliced / diced beef pieces', 'Pork loin chops', 'Pork steak', 'Lamb - whole leg / half leg', 'Lamb loin chops', 'Chicken', \"Lamb's liver\", 'Ham fillet', 'Cooked ham ', 'Best back rashers', 'Pork sausages', 'Fresh fillet of cod', 'Fresh salmon', 'Fresh hake', 'Smoked salmon ', 'Full fat milk ', 'Low fat milk ', 'Irish cheddar', 'Large eggs', 'Butter', 'Grapes ', 'Bananas', 'Tomatoes', 'Onions', 'Broccoli', 'Carrots ', 'Mushrooms', 'Tomatoes tinned', 'Potatoes', 'White granulated sugar', 'Jam ', 'Marmalade', 'Tea bags', 'Orange juice']\n"
     ]
    }
   ],
   "source": [
    "commodities = [i[0] for i in my_data[1::]]\n",
    "print(commodities)"
   ]
  },
  {
   "cell_type": "code",
   "execution_count": 100,
   "metadata": {
    "collapsed": false
   },
   "outputs": [
    {
     "name": "stdout",
     "output_type": "stream",
     "text": [
      "['Food', 'Energy (mcal)', 'Carbs (g)', 'Protein (g)', 'Fat (g)', 'Fibre (g)', 'Potassium (mg)', 'Calcium (mg)', 'Magnesium (mg)', 'Phosphorus (mg)', 'Iron (mg)', 'Copper (mg)', 'Zinc (mg)', 'Manganese (mg)', 'Selenium (ug)', 'Iodine (ug)', 'Vitamin D (ug)', 'Vitamin K (ug)', 'Thiamin (mg)', 'Riboflavin (mg)', 'Niacin (mg)', 'Vitamin B6 (mg)', 'Folate (ug) ', 'Biotin (ug)', 'Vitamin C (mg) ', 'Vitamin A (ug)', 'Vitamin E (mg)', 'Pantothenic acid (mg)', 'Vitamin B12 (ug)']\n"
     ]
    }
   ],
   "source": [
    "nutrients = my_data[0]\n",
    "print(nutrients)"
   ]
  },
  {
   "cell_type": "code",
   "execution_count": 143,
   "metadata": {
    "collapsed": false
   },
   "outputs": [],
   "source": [
    "#Recommended daily intake of Male 70kg 18years + \n",
    "rda_man = [2.7, 351, 58.1, 84, 25, 3500, 950, 350, 550, 11, 1.6, 16.3, 3, \n",
    "           70, 150, 15, 70, 0.1, 1.6, 1.6, 1.7, 330, 40, 110, 750, 13, 5, 4]"
   ]
  },
  {
   "cell_type": "code",
   "execution_count": 154,
   "metadata": {
    "collapsed": false
   },
   "outputs": [],
   "source": [
    "def perform_simplex(data, b_vector):\n",
    "    #Cost of each food will just be sum of x vector so c=1\n",
    "    c=np.ones(len(data))\n",
    "\n",
    "    #Matrix A of vitamins for each food\n",
    "    A = np.transpose(np.matrix(data,dtype=float)) \n",
    "\n",
    "    #Recommended daily vitamin allowance for a moderately active man\n",
    "    b = np.array(b_vector)\n",
    "\n",
    "    #Minimisation problem with lower bound\n",
    "    solution = optimize.linprog(c, A_ub=-A, b_ub=-b, method='simplex')\n",
    "    \n",
    "    return solution"
   ]
  },
  {
   "cell_type": "code",
   "execution_count": 198,
   "metadata": {
    "collapsed": false
   },
   "outputs": [],
   "source": [
    "def optimise_diet(nutrient_index):\n",
    "\n",
    "    rda=[rda_man[i] for i in nutrient_index]\n",
    "\n",
    "    #Nutrient composition of food from database\n",
    "    data = [[i[j+1] for j in nutrient_index] for i in my_data[1::]]\n",
    "\n",
    "    print(\"Nutrients to optimise: \\n\",[my_data[0][j+1] for j in nutrient_index])\n",
    "    print(\"\\n\")\n",
    "\n",
    "    optimum_ans = perform_simplex(data,rda)\n",
    "    print(optimum_ans)\n",
    "\n",
    "    #Print out the relevant foods\n",
    "    print(\"\\nShopping List:\\n\")\n",
    "    for i in np.nonzero(optimum_ans.x)[0]:\n",
    "        print(round(100*optimum_ans.x[i]/food_costs[i],2),\"g \",\n",
    "              commodities[i],\"= €\",round(optimum_ans.x[i],6))\n",
    "    \n",
    "\n",
    "    print(\"\\nTotal daily cost = €\",round(sum(optimum_ans.x),2))\n",
    "    print(\"\\nTotal yearly cost = €\",round(sum(optimum_ans.x*365.25),2))\n",
    "\n",
    "    print(\"\\nNutrient intake (%) with this diet:\")\n",
    "    print(\"------------------------------\")\n",
    "\n",
    "\n",
    "    excess = []\n",
    "    for j in range(1,len(nutrients)):\n",
    "        nut = np.array([i[j] for i in my_data[1::]],dtype=float)\n",
    "        xs=round(np.matmul(nut,optimum_ans.x),1)\n",
    "        m=rda_man[j-1]\n",
    "        xsp = round(100*abs(xs/m),0)\n",
    "        excess.append(xsp)\n",
    "        \n",
    "        print(nutrients[j],xsp)\n",
    "\n",
    "    print(\"\\nNutrients Not Satisfied:\")\n",
    "    print([[i,nutrients[i+1],excess[i]] for i, x in enumerate(excess) if x < 100])"
   ]
  },
  {
   "cell_type": "code",
   "execution_count": 199,
   "metadata": {
    "collapsed": false
   },
   "outputs": [
    {
     "name": "stdout",
     "output_type": "stream",
     "text": [
      "Nutrients to optimise: \n",
      " ['Energy (mcal)', 'Carbs (g)', 'Protein (g)', 'Fat (g)']\n",
      "\n",
      "\n",
      "     fun: 1.3031837936412036\n",
      " message: 'Optimization terminated successfully.'\n",
      "     nit: 6\n",
      "   slack: array([   0.        ,  104.90167962,    0.        ,    0.        ])\n",
      "  status: 0\n",
      " success: True\n",
      "       x: array([ 0.64759256,  0.        ,  0.        ,  0.        ,  0.        ,\n",
      "        0.        ,  0.        ,  0.        ,  0.        ,  0.        ,\n",
      "        0.        ,  0.        ,  0.07228783,  0.        ,  0.        ,\n",
      "        0.        ,  0.        ,  0.        ,  0.        ,  0.        ,\n",
      "        0.        ,  0.        ,  0.        ,  0.        ,  0.        ,\n",
      "        0.        ,  0.5833034 ,  0.        ,  0.        ,  0.        ,\n",
      "        0.        ,  0.        ,  0.        ,  0.        ,  0.        ,\n",
      "        0.        ,  0.        ,  0.        ,  0.        ,  0.        ,  0.        ])\n",
      "\n",
      "Shopping List:\n",
      "\n",
      "572.08 g  White, self raising flour = € 0.647593\n",
      "25.31 g  Chicken = € 0.072288\n",
      "87.9 g  Butter = € 0.583303\n",
      "\n",
      "Total daily cost = € 1.3\n",
      "\n",
      "Total yearly cost = € 475.99\n",
      "\n",
      "Nutrient intake (%) with this diet:\n",
      "------------------------------\n",
      "Energy (mcal) 100.0\n",
      "Carbs (g) 130.0\n",
      "Protein (g) 100.0\n",
      "Fat (g) 100.0\n",
      "Fibre (g) 92.0\n",
      "Potassium (mg) 34.0\n",
      "Calcium (mg) 171.0\n",
      "Magnesium (mg) 43.0\n",
      "Phosphorus (mg) 495.0\n",
      "Iron (mg) 92.0\n",
      "Copper (mg) 44.0\n",
      "Zinc (mg) 31.0\n",
      "Manganese (mg) 160.0\n",
      "Selenium (ug) 30.0\n",
      "Iodine (ug) 23.0\n",
      "Vitamin D (ug) 6.0\n",
      "Vitamin K (ug) 9.0\n",
      "Thiamin (mg) 1600.0\n",
      "Riboflavin (mg) 25.0\n",
      "Niacin (mg) 744.0\n",
      "Vitamin B6 (mg) 65.0\n",
      "Folate (ug)  32.0\n",
      "Biotin (ug) 28.0\n",
      "Vitamin C (mg)  0.0\n",
      "Vitamin A (ug) 113.0\n",
      "Vitamin E (mg) 41.0\n",
      "Pantothenic acid (mg) 58.0\n",
      "Vitamin B12 (ug) 8.0\n",
      "\n",
      "Nutrients Not Satisfied:\n",
      "[[4, 'Fibre (g)', 92.0], [5, 'Potassium (mg)', 34.0], [7, 'Magnesium (mg)', 43.0], [9, 'Iron (mg)', 92.0], [10, 'Copper (mg)', 44.0], [11, 'Zinc (mg)', 31.0], [13, 'Selenium (ug)', 30.0], [14, 'Iodine (ug)', 23.0], [15, 'Vitamin D (ug)', 6.0], [16, 'Vitamin K (ug)', 9.0], [18, 'Riboflavin (mg)', 25.0], [20, 'Vitamin B6 (mg)', 65.0], [21, 'Folate (ug) ', 32.0], [22, 'Biotin (ug)', 28.0], [23, 'Vitamin C (mg) ', 0.0], [25, 'Vitamin E (mg)', 41.0], [26, 'Pantothenic acid (mg)', 58.0], [27, 'Vitamin B12 (ug)', 8.0]]\n"
     ]
    }
   ],
   "source": [
    "#First just try Calories, Carbs, Protein, and Fat\n",
    "\n",
    "basic_allowance=[0,1,2,3]\n",
    "\n",
    "optimise_diet(basic_allowance)"
   ]
  },
  {
   "cell_type": "code",
   "execution_count": null,
   "metadata": {
    "collapsed": false
   },
   "outputs": [],
   "source": []
  },
  {
   "cell_type": "code",
   "execution_count": 200,
   "metadata": {
    "collapsed": false
   },
   "outputs": [
    {
     "name": "stdout",
     "output_type": "stream",
     "text": [
      "Nutrients to optimise: \n",
      " ['Energy (mcal)', 'Carbs (g)', 'Protein (g)', 'Fat (g)', 'Fibre (g)', 'Potassium (mg)', 'Calcium (mg)', 'Magnesium (mg)', 'Phosphorus (mg)', 'Iron (mg)', 'Copper (mg)', 'Zinc (mg)', 'Manganese (mg)', 'Selenium (ug)', 'Iodine (ug)', 'Vitamin D (ug)', 'Vitamin K (ug)', 'Niacin (mg)', 'Vitamin B6 (mg)', 'Folate (ug) ', 'Biotin (ug)', 'Vitamin C (mg) ', 'Vitamin A (ug)', 'Vitamin E (mg)', 'Pantothenic acid (mg)', 'Vitamin B12 (ug)']\n",
      "\n",
      "\n",
      "     fun: 5.05724855147625\n",
      " message: 'Optimization terminated successfully.'\n",
      "     nit: 137\n",
      "   slack: array([  4.67012053e-02,   4.22670358e+01,   7.02042855e+01,\n",
      "         0.00000000e+00,   5.43776765e+01,   1.26255465e+03,\n",
      "         0.00000000e+00,   2.04157872e+02,   1.98861123e+03,\n",
      "         1.33270197e+01,   8.81327558e-01,   0.00000000e+00,\n",
      "         7.04879408e+00,   7.78931136e+01,   1.39520723e+02,\n",
      "         0.00000000e+00,   0.00000000e+00,   2.39520196e+01,\n",
      "         1.60784924e+00,   8.63445551e+01,   7.72835671e+01,\n",
      "         0.00000000e+00,   8.48202973e+01,   0.00000000e+00,\n",
      "         8.99128920e+00,   6.41485594e+00])\n",
      "  status: 0\n",
      " success: True\n",
      "       x: array([ 0.        ,  0.6122589 ,  0.        ,  0.        ,  0.        ,\n",
      "        0.        ,  0.        ,  0.        ,  0.        ,  0.        ,\n",
      "        0.        ,  0.        ,  0.        ,  0.        ,  0.        ,\n",
      "        0.        ,  0.        ,  0.        ,  0.        ,  0.        ,\n",
      "        0.        ,  0.        ,  0.10469621,  0.        ,  0.        ,\n",
      "        2.35302097,  0.16379562,  0.        ,  0.        ,  0.        ,\n",
      "        0.        ,  0.10147084,  1.55350352,  0.        ,  0.        ,\n",
      "        0.        ,  0.        ,  0.        ,  0.        ,  0.        ,\n",
      "        0.16850249])\n",
      "\n",
      "Shopping List:\n",
      "\n",
      "432.23 g  Brown, wholemeal flour = € 0.612259\n",
      "122.74 g  Full fat milk  = € 0.104696\n",
      "461.81 g  Large eggs = € 2.353021\n",
      "24.68 g  Butter = € 0.163796\n",
      "36.59 g  Broccoli = € 0.101471\n",
      "1226.13 g  Carrots  = € 1.553504\n",
      "122.01 g  Orange juice = € 0.168502\n",
      "\n",
      "Total daily cost = € 5.06\n",
      "\n",
      "Total yearly cost = € 1847.16\n",
      "\n",
      "Nutrient intake (%) with this diet:\n",
      "------------------------------\n",
      "Energy (mcal) 100.0\n",
      "Carbs (g) 112.0\n",
      "Protein (g) 221.0\n",
      "Fat (g) 100.0\n",
      "Fibre (g) 318.0\n",
      "Potassium (mg) 136.0\n",
      "Calcium (mg) 100.0\n",
      "Magnesium (mg) 158.0\n",
      "Phosphorus (mg) 462.0\n",
      "Iron (mg) 221.0\n",
      "Copper (mg) 156.0\n",
      "Zinc (mg) 100.0\n",
      "Manganese (mg) 333.0\n",
      "Selenium (ug) 211.0\n",
      "Iodine (ug) 193.0\n",
      "Vitamin D (ug) 100.0\n",
      "Vitamin K (ug) 100.0\n",
      "Thiamin (mg) 3500.0\n",
      "Riboflavin (mg) 200.0\n",
      "Niacin (mg) 1600.0\n",
      "Vitamin B6 (mg) 194.0\n",
      "Folate (ug)  126.0\n",
      "Biotin (ug) 293.0\n",
      "Vitamin C (mg)  100.0\n",
      "Vitamin A (ug) 111.0\n",
      "Vitamin E (mg) 100.0\n",
      "Pantothenic acid (mg) 280.0\n",
      "Vitamin B12 (ug) 260.0\n",
      "\n",
      "Nutrients Not Satisfied:\n",
      "[]\n"
     ]
    }
   ],
   "source": [
    "#Optimise over most nutrients\n",
    "most_nutrients_idx = [0,1,2,3,4,5,6,7,8,9,10,11,12,13,14,15,16,19,20,21,22,23,24,25,26,27]\n",
    "\n",
    "optimise_diet(most_nutrients_idx)\n"
   ]
  },
  {
   "cell_type": "code",
   "execution_count": null,
   "metadata": {
    "collapsed": false
   },
   "outputs": [],
   "source": []
  },
  {
   "cell_type": "code",
   "execution_count": 400,
   "metadata": {
    "collapsed": false
   },
   "outputs": [],
   "source": [
    "def make_meals(recipes,commodities):\n",
    "    \n",
    "    A_sparse = np.zeros((len(recipes),len(commodities)))\n",
    " \n",
    "    for i in range(A_sparse.shape[0]):\n",
    "        for j in range(A_sparse.shape[1]):\n",
    "            A_sparse[i,j] = random.Random(i*j).choice(amounts)\n",
    "    \n",
    "    #€ / Meal = Xg x € / 100g\n",
    "    meal_costs = np.matmul(A_sparse,food_costs)\n",
    "\n",
    "    #Nutrient / 100 g = € / 100g x Nutrient / €\n",
    "    nutrients_per_100g = np.zeros(data.shape)\n",
    "    for i,d in enumerate(data):\n",
    "        nutrients_per_100g[i] = data[i]*food_costs[i]\n",
    "    \n",
    "    # Meal Nutrients = Xg x Nutrient / 100g\n",
    "    meal_nutrients = np.matmul(A_sparse,nutrients_per_100g)\n",
    "\n",
    "    # Meal Nutrients / Meal €\n",
    "    meal_data = np.zeros(meal_nutrients.shape)\n",
    "    \n",
    "    for i,x in enumerate(meal_nutrients):\n",
    "        meal_data[i] = meal_nutrients[i]/meal_costs[i]\n",
    "    \n",
    "    return meal_data, meal_nutrients, A_sparse"
   ]
  },
  {
   "cell_type": "code",
   "execution_count": null,
   "metadata": {
    "collapsed": false
   },
   "outputs": [],
   "source": []
  },
  {
   "cell_type": "code",
   "execution_count": 403,
   "metadata": {
    "collapsed": false
   },
   "outputs": [],
   "source": [
    "def optimise_meals(meal_nutrient_index):\n",
    "    rda=[rda_man[i] for i in meal_nutrient_index]\n",
    "\n",
    "    #Nutrient composition of food from database\n",
    "    data = np.matrix([i[1::] for i in my_data[1::]],dtype=float)\n",
    "\n",
    "    recipes = ['Meal 1', 'Meal 2', 'Meal 3', 'Meal 4', 'Meal 5',\n",
    "            'Meal 6', 'Meal 7', 'Meal 8', 'Meal 9', 'Meal 10']\n",
    "    \n",
    "    #Amounts is in 100g quantities \n",
    "    amounts = [0,0,0,0,0,0,0,0,0,0,0,0,0,0,0,0,0.1,0.2,0.5,1.0]\n",
    "\n",
    "    meal_data, meal_nutrients, A_sparse = make_meals(recipes, commodities)\n",
    "\n",
    "    meal_nutrients_red = np.matrix([[meal_nutrients[i,j] for j in meal_nutrient_index] for i in range(len(recipes))])\n",
    "    \n",
    "    print(\"Nutrients to optimise: \\n\",[my_data[0][j+1] for j in meal_nutrient_index])\n",
    "    print(\"\\n\")\n",
    "\n",
    "    meal_ans = perform_simplex(meal_nutrients_red, rda)\n",
    "    print(meal_ans)\n",
    "\n",
    "    #Print out the relevant foods\n",
    "    print(\"\\nShopping List:\\n\")\n",
    "    for i in np.nonzero(meal_ans.x)[0]:\n",
    "        print(round(100*meal_ans.x[i]/food_costs[i],2),\"g \",\n",
    "                recipes[i],\"= €\",round(meal_ans.x[i],6))\n",
    "\n",
    "    print(\"\\nTotal daily cost = €\",round(sum(meal_ans.x),2))\n",
    "    print(\"\\nTotal yearly cost = €\",round(sum(meal_ans.x*365.25),2))\n",
    "\n",
    "    print(\"\\nNutrient intake (%) with this diet:\")\n",
    "    print(\"------------------------------\")\n",
    "\n",
    "    excess = []\n",
    "    for j in range(len(nutrients)-1):\n",
    "\n",
    "        test = [meal_nutrients[i,j] for i,x in enumerate(meal_nutrients)]\n",
    "        xs=round(np.matmul(test,meal_ans.x),1)\n",
    "        m=rda_man[j]\n",
    "        xsp = round(100*abs(xs/m),0)\n",
    "        \n",
    "        excess.append(xsp)\n",
    "    \n",
    "        print(nutrients[j+1],xsp)\n",
    "\n",
    "    print(\"\\nNutrients Not Satisfied:\")\n",
    "    print([[i,nutrients[i+1],excess[i]] for i, x in enumerate(excess) if x<100])\n",
    "    \n",
    "    return A_sparse"
   ]
  },
  {
   "cell_type": "code",
   "execution_count": null,
   "metadata": {
    "collapsed": false
   },
   "outputs": [],
   "source": []
  },
  {
   "cell_type": "code",
   "execution_count": 404,
   "metadata": {
    "collapsed": false
   },
   "outputs": [
    {
     "name": "stdout",
     "output_type": "stream",
     "text": [
      "Nutrients to optimise: \n",
      " ['Energy (mcal)', 'Carbs (g)', 'Protein (g)', 'Fat (g)']\n",
      "\n",
      "\n",
      "     fun: 3.51964045709915\n",
      " message: 'Optimization terminated successfully.'\n",
      "     nit: 9\n",
      "   slack: array([  7.78437095e-02,   0.00000000e+00,   1.18257250e+02,\n",
      "         0.00000000e+00])\n",
      "  status: 0\n",
      " success: True\n",
      "       x: array([ 0.        ,  0.        ,  0.        ,  0.        ,  0.        ,\n",
      "        2.47171815,  0.        ,  1.0479223 ,  0.        ,  0.        ])\n",
      "\n",
      "Shopping List:\n",
      "\n",
      "172.61 g  Meal 6 = € 2.471718\n",
      "98.69 g  Meal 8 = € 1.047922\n",
      "\n",
      "Total daily cost = € 3.52\n",
      "\n",
      "Total yearly cost = € 1285.55\n",
      "\n",
      "Nutrient intake (%) with this diet:\n",
      "------------------------------\n",
      "Energy (mcal) 104.0\n",
      "Carbs (g) 100.0\n",
      "Protein (g) 304.0\n",
      "Fat (g) 100.0\n",
      "Fibre (g) 134.0\n",
      "Potassium (mg) 105.0\n",
      "Calcium (mg) 62.0\n",
      "Magnesium (mg) 120.0\n",
      "Phosphorus (mg) 427.0\n",
      "Iron (mg) 122.0\n",
      "Copper (mg) 100.0\n",
      "Zinc (mg) 102.0\n",
      "Manganese (mg) 210.0\n",
      "Selenium (ug) 171.0\n",
      "Iodine (ug) 101.0\n",
      "Vitamin D (ug) 169.0\n",
      "Vitamin K (ug) 10.0\n",
      "Thiamin (mg) 3300.0\n",
      "Riboflavin (mg) 94.0\n",
      "Niacin (mg) 3200.0\n",
      "Vitamin B6 (mg) 253.0\n",
      "Folate (ug)  85.0\n",
      "Biotin (ug) 116.0\n",
      "Vitamin C (mg)  68.0\n",
      "Vitamin A (ug) 54.0\n",
      "Vitamin E (mg) 92.0\n",
      "Pantothenic acid (mg) 170.0\n",
      "Vitamin B12 (ug) 348.0\n",
      "\n",
      "Nutrients Not Satisfied:\n",
      "[[6, 'Calcium (mg)', 62.0], [16, 'Vitamin K (ug)', 10.0], [18, 'Riboflavin (mg)', 94.0], [21, 'Folate (ug) ', 85.0], [23, 'Vitamin C (mg) ', 68.0], [24, 'Vitamin A (ug)', 54.0], [25, 'Vitamin E (mg)', 92.0]]\n"
     ]
    },
    {
     "name": "stderr",
     "output_type": "stream",
     "text": [
      "/Library/Frameworks/Python.framework/Versions/3.5/lib/python3.5/site-packages/ipykernel/__main__.py:24: RuntimeWarning: invalid value encountered in true_divide\n"
     ]
    }
   ],
   "source": [
    "A = optimise_meals(basic_allowance)"
   ]
  },
  {
   "cell_type": "code",
   "execution_count": null,
   "metadata": {
    "collapsed": false
   },
   "outputs": [],
   "source": [
    "\n",
    "    \n"
   ]
  },
  {
   "cell_type": "code",
   "execution_count": null,
   "metadata": {
    "collapsed": false
   },
   "outputs": [],
   "source": [
    "   "
   ]
  },
  {
   "cell_type": "code",
   "execution_count": 405,
   "metadata": {
    "collapsed": false
   },
   "outputs": [
    {
     "name": "stdout",
     "output_type": "stream",
     "text": [
      "Nutrients to optimise: \n",
      " ['Energy (mcal)', 'Carbs (g)', 'Protein (g)', 'Fat (g)', 'Fibre (g)', 'Potassium (mg)', 'Calcium (mg)', 'Magnesium (mg)', 'Phosphorus (mg)', 'Iron (mg)', 'Copper (mg)', 'Zinc (mg)', 'Manganese (mg)', 'Selenium (ug)', 'Iodine (ug)', 'Vitamin D (ug)', 'Vitamin A (ug)', 'Vitamin E (mg)']\n",
      "\n",
      "\n",
      "     fun: 5.3959204354738279\n",
      " message: 'Optimization terminated successfully.'\n",
      "     nit: 30\n",
      "   slack: array([  1.57760338e+00,   1.75087435e+02,   2.04197449e+02,\n",
      "         5.54919783e+01,   4.01843816e+01,   2.23910035e+03,\n",
      "         1.33627565e+02,   3.63757611e+02,   3.10349961e+03,\n",
      "         1.32930142e+01,   1.18149660e+00,   1.15870266e+01,\n",
      "         9.35037406e+00,   8.71514769e+01,   0.00000000e+00,\n",
      "         2.09545551e+01,   0.00000000e+00,   6.64193154e+00])\n",
      "  status: 0\n",
      " success: True\n",
      "       x: array([ 0.        ,  0.        ,  0.        ,  0.        ,  0.        ,\n",
      "        4.84064258,  0.        ,  0.55527786,  0.        ,  0.        ])\n",
      "\n",
      "Shopping List:\n",
      "\n",
      "338.03 g  Meal 6 = € 4.840643\n",
      "52.3 g  Meal 8 = € 0.555278\n",
      "\n",
      "Total daily cost = € 5.4\n",
      "\n",
      "Total yearly cost = € 1970.86\n",
      "\n",
      "Nutrient intake (%) with this diet:\n",
      "------------------------------\n",
      "Energy (mcal) 159.0\n",
      "Carbs (g) 150.0\n",
      "Protein (g) 451.0\n",
      "Fat (g) 166.0\n",
      "Fibre (g) 261.0\n",
      "Potassium (mg) 164.0\n",
      "Calcium (mg) 114.0\n",
      "Magnesium (mg) 204.0\n",
      "Phosphorus (mg) 664.0\n",
      "Iron (mg) 221.0\n",
      "Copper (mg) 175.0\n",
      "Zinc (mg) 171.0\n",
      "Manganese (mg) 413.0\n",
      "Selenium (ug) 225.0\n",
      "Iodine (ug) 100.0\n",
      "Vitamin D (ug) 240.0\n",
      "Vitamin K (ug) 20.0\n",
      "Thiamin (mg) 4900.0\n",
      "Riboflavin (mg) 150.0\n",
      "Niacin (mg) 4800.0\n",
      "Vitamin B6 (mg) 376.0\n",
      "Folate (ug)  151.0\n",
      "Biotin (ug) 194.0\n",
      "Vitamin C (mg)  132.0\n",
      "Vitamin A (ug) 100.0\n",
      "Vitamin E (mg) 151.0\n",
      "Pantothenic acid (mg) 264.0\n",
      "Vitamin B12 (ug) 480.0\n",
      "\n",
      "Nutrients Not Satisfied:\n",
      "[[16, 'Vitamin K (ug)', 20.0]]\n"
     ]
    },
    {
     "name": "stderr",
     "output_type": "stream",
     "text": [
      "/Library/Frameworks/Python.framework/Versions/3.5/lib/python3.5/site-packages/ipykernel/__main__.py:24: RuntimeWarning: invalid value encountered in true_divide\n"
     ]
    }
   ],
   "source": [
    "some_nutrients_idx = [0,1,2,3,4,5,6,7,8,9,10,11,12,13,14,15,24,25]#,19,20,21,22,23,24,25,26,27]\n",
    "\n",
    "meal_nutrients = optimise_meals(some_nutrients_idx)"
   ]
  },
  {
   "cell_type": "code",
   "execution_count": null,
   "metadata": {
    "collapsed": false
   },
   "outputs": [],
   "source": []
  },
  {
   "cell_type": "code",
   "execution_count": null,
   "metadata": {
    "collapsed": false
   },
   "outputs": [],
   "source": []
  },
  {
   "cell_type": "code",
   "execution_count": 431,
   "metadata": {
    "collapsed": false
   },
   "outputs": [
    {
     "name": "stdout",
     "output_type": "stream",
     "text": [
      "\n",
      "Meal 0\n",
      "\n",
      "Meal 1\n",
      "['Sirloin steak', 1.0]\n",
      "['Roast beef - topside or rib', 0.5]\n",
      "['Lamb - whole leg / half leg', 0.5]\n",
      "['Pork sausages', 0.1]\n",
      "['Tomatoes', 0.2]\n",
      "['Onions', 0.2]\n",
      "['Mushrooms', 0.5]\n",
      "['Tomatoes tinned', 0.1]\n",
      "['Potatoes', 0.2]\n",
      "['Jam ', 1.0]\n",
      "\n",
      "Meal 2\n",
      "['Bread, brown sliced pan', 0.5]\n",
      "['Sirloin steak', 0.5]\n",
      "['Cooked ham ', 0.2]\n",
      "['Pork sausages', 0.1]\n",
      "['Irish cheddar', 0.2]\n",
      "['Bananas', 0.2]\n",
      "['Tomatoes', 0.5]\n",
      "['Broccoli', 0.5]\n",
      "['Jam ', 1.0]\n",
      "\n",
      "Meal 3\n",
      "['Bread, white sliced pan', 0.5]\n",
      "['Lamb - whole leg / half leg', 0.2]\n",
      "['Lamb loin chops', 0.5]\n",
      "['Best back rashers', 0.2]\n",
      "['Grapes ', 0.1]\n",
      "['Potatoes', 0.5]\n",
      "['Orange juice', 0.1]\n",
      "\n",
      "Meal 4\n",
      "['Chicken', 0.2]\n",
      "['Ham fillet', 0.2]\n",
      "['Tomatoes', 1.0]\n",
      "['Onions', 0.1]\n",
      "['Tomatoes tinned', 0.5]\n",
      "\n",
      "Meal 5\n",
      "['Brown, wholemeal flour', 1.0]\n",
      "['Bread, white sliced pan', 0.5]\n",
      "['Roast beef - topside or rib', 0.2]\n",
      "['Sliced / diced beef pieces', 0.2]\n",
      "['Fresh salmon', 0.2]\n",
      "['Smoked salmon ', 0.5]\n",
      "['Irish cheddar', 0.1]\n",
      "['Butter', 0.1]\n",
      "['Broccoli', 0.5]\n",
      "['Tea bags', 1.0]\n",
      "\n",
      "Meal 6\n",
      "['Brown, wholemeal flour', 0.5]\n",
      "['Sirloin steak', 0.2]\n",
      "['Pork loin chops', 0.2]\n",
      "['Fresh hake', 0.1]\n",
      "['Smoked salmon ', 0.5]\n",
      "['Orange juice', 1.0]\n",
      "\n",
      "Meal 7\n",
      "['Sirloin steak', 0.2]\n",
      "['Pork loin chops', 0.2]\n",
      "['Cooked ham ', 0.5]\n",
      "['Fresh fillet of cod', 0.5]\n",
      "['Smoked salmon ', 1.0]\n",
      "['Low fat milk ', 0.1]\n",
      "['Bananas', 0.1]\n",
      "['White granulated sugar', 1.0]\n",
      "\n",
      "Meal 8\n",
      "['Roast beef - topside or rib', 0.2]\n",
      "['Sliced / diced beef pieces', 0.2]\n",
      "['Cooked ham ', 0.1]\n",
      "['Pork sausages', 0.5]\n",
      "['Onions', 1.0]\n",
      "['Mushrooms', 1.0]\n",
      "\n",
      "Meal 9\n",
      "['Pork steak', 0.1]\n",
      "['Ham fillet', 0.5]\n",
      "['Fresh salmon', 0.2]\n",
      "['Low fat milk ', 0.1]\n",
      "['Grapes ', 0.1]\n",
      "['Bananas', 1.0]\n",
      "['Mushrooms', 0.1]\n",
      "['White granulated sugar', 0.5]\n",
      "['Jam ', 0.2]\n",
      "['Tea bags', 1.0]\n"
     ]
    }
   ],
   "source": [
    "for j in range(A.shape[0]):\n",
    "    print(\"\\nMeal\",j)\n",
    "    [print([commodities[i],float(A[j][i])]) for i,x in enumerate(A[j]) if x>0]"
   ]
  },
  {
   "cell_type": "code",
   "execution_count": null,
   "metadata": {
    "collapsed": false
   },
   "outputs": [],
   "source": []
  },
  {
   "cell_type": "code",
   "execution_count": null,
   "metadata": {
    "collapsed": false
   },
   "outputs": [],
   "source": []
  },
  {
   "cell_type": "code",
   "execution_count": null,
   "metadata": {
    "collapsed": false
   },
   "outputs": [],
   "source": []
  },
  {
   "cell_type": "code",
   "execution_count": null,
   "metadata": {
    "collapsed": false
   },
   "outputs": [],
   "source": []
  },
  {
   "cell_type": "code",
   "execution_count": null,
   "metadata": {
    "collapsed": false
   },
   "outputs": [],
   "source": []
  },
  {
   "cell_type": "code",
   "execution_count": null,
   "metadata": {
    "collapsed": false
   },
   "outputs": [],
   "source": []
  },
  {
   "cell_type": "code",
   "execution_count": null,
   "metadata": {
    "collapsed": true
   },
   "outputs": [],
   "source": []
  }
 ],
 "metadata": {
  "kernelspec": {
   "display_name": "Python 3",
   "language": "python",
   "name": "python3"
  },
  "language_info": {
   "codemirror_mode": {
    "name": "ipython",
    "version": 3
   },
   "file_extension": ".py",
   "mimetype": "text/x-python",
   "name": "python",
   "nbconvert_exporter": "python",
   "pygments_lexer": "ipython3",
   "version": "3.5.2"
  }
 },
 "nbformat": 4,
 "nbformat_minor": 2
}
