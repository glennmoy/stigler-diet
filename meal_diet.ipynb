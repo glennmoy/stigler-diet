{
 "cells": [
  {
   "cell_type": "code",
   "execution_count": 5,
   "metadata": {
    "collapsed": true
   },
   "outputs": [],
   "source": [
    "import math\n",
    "import random\n",
    "import numpy as np\n",
    "from scipy import optimize, sparse"
   ]
  },
  {
   "cell_type": "code",
   "execution_count": 137,
   "metadata": {
    "collapsed": true
   },
   "outputs": [],
   "source": [
    "commodities = [\n",
    "  [\"Wheat Flour (Enriched)\", \"10 lb.\"],\n",
    "  [\"Macaroni\", \"1 lb.\"],\n",
    "  [\"Wheat Cereal (Enriched)\", \"28 oz.\"],\n",
    "  [\"Corn Flakes\", \"8 oz.\"],\n",
    "  [\"Corn Meal\", \"1 lb.\"],\n",
    "  [\"Hominy Grits\", \"24 oz.\"],\n",
    "  [\"Rice\", \"1 lb.\"],\n",
    "  [\"Rolled Oats\", \"1 lb.\"],\n",
    "  [\"White Bread (Enriched)\", \"1 lb.\"],\n",
    "  [\"Whole Wheat Bread\", \"1 lb.\"],\n",
    "  [\"Rye Bread\", \"1 lb.\"],\n",
    "  [\"Pound Cake\", \"1 lb.\"],\n",
    "  [\"Soda Crackers\", \"1 lb.\"],\n",
    "  [\"Milk\", \"1 qt.\"],\n",
    "  [\"Evaporated Milk (can)\", \"14.5 oz.\"],\n",
    "  [\"Butter\", \"1 lb.\"],\n",
    "  [\"Oleomargarine\", \"1 lb.\"],\n",
    "  [\"Eggs\", \"1 doz.\"],\n",
    "  [\"Cheese (Cheddar)\", \"1 lb.\"],\n",
    "  [\"Cream\", \"1/2 pt.\"],\n",
    "  [\"Peanut Butter\", \"1 lb.\"],\n",
    "  [\"Mayonnaise\", \"1/2 pt.\"],\n",
    "  [\"Crisco\", \"1 lb.\"],\n",
    "  [\"Lard\", \"1 lb.\"],\n",
    "  [\"Sirloin Steak\", \"1 lb.\"],\n",
    "  [\"Round Steak\", \"1 lb.\"],\n",
    "  [\"Rib Roast\", \"1 lb.\"],\n",
    "  [\"Chuck Roast\", \"1 lb.\"],\n",
    "  [\"Plate\", \"1 lb.\"],\n",
    "  [\"Liver (Beef)\", \"1 lb.\"],\n",
    "  [\"Leg of Lamb\", \"1 lb.\"],\n",
    "  [\"Lamb Chops (Rib)\", \"1 lb.\"],\n",
    "  [\"Pork Chops\", \"1 lb.\"],\n",
    "  [\"Pork Loin Roast\", \"1 lb.\"],\n",
    "  [\"Bacon\", \"1 lb.\"],\n",
    "  [\"Ham - smoked\", \"1 lb.\"],\n",
    "  [\"Salt Pork\", \"1 lb.\"],\n",
    "  [\"Roasting Chicken\", \"1 lb.\"],\n",
    "  [\"Veal Cutlets\", \"1 lb.\"],\n",
    "  [\"Salmon, Pink (can)\", \"16 oz.\"],\n",
    "  [\"Apples\", \"1 lb.\"],\n",
    "  [\"Bananas\", \"1 lb.\"],\n",
    "  [\"Lemons\", \"1 doz.\"],\n",
    "  [\"Oranges\", \"1 doz.\"],\n",
    "  [\"Green Beans\", \"1 lb.\"],\n",
    "  [\"Cabbage\", \"1 lb.\"],\n",
    "  [\"Carrots\", \"1 bunch\"],\n",
    "  [\"Celery\", \"1 stalk\"],\n",
    "  [\"Lettuce\", \"1 head\"],\n",
    "  [\"Onions\", \"1 lb.\"],\n",
    "  [\"Potatoes\", \"15 lb.\"],\n",
    "  [\"Spinach\", \"1 lb.\"],\n",
    "  [\"Sweet Potatoes\", \"1 lb.\"],\n",
    "  [\"Peaches (can)\", \"No. 2 1/2\"],\n",
    "  [\"Pears (can)\", \"No. 2 1/2,\"],\n",
    "  [\"Pineapple (can)\", \"No. 2 1/2\"],\n",
    "  [\"Asparagus (can)\", \"No. 2\"],\n",
    "  [\"Grean Beans (can)\", \"No. 2\"],\n",
    "  [\"Pork and Beans (can)\", \"16 oz.\"],\n",
    "  [\"Corn (can)\", \"No. 2\"],\n",
    "  [\"Peas (can)\", \"No. 2\"],\n",
    "  [\"Tomatoes (can)\", \"No. 2\"],\n",
    "  [\"Tomato Soup (can)\", \"10 1/2 oz.\"],\n",
    "  [\"Peaches, Dried\", \"1 lb.\"],\n",
    "  [\"Prunes, Dried\", \"1 lb.\"],\n",
    "  [\"Raisins, Dried\", \"15 oz.\"],\n",
    "  [\"Peas, Dried\", \"1 lb.\"],\n",
    "  [\"Lima Beans, Dried\", \"1 lb.\"],\n",
    "  [\"Navy Beans, Dried\", \"1 lb.\"],\n",
    "  [\"Coffee\", \"1 lb.\"],\n",
    "  [\"Tea\", \"1/4 lb.\"],\n",
    "  [\"Cocoa\", \"8 oz.\"],\n",
    "  [\"Chocolate\", \"8 oz.\"],\n",
    "  [\"Sugar\", \"10 lb.\"],\n",
    "  [\"Corn Sirup\", \"24 oz.\"],\n",
    "  [\"Molasses\", \"18 oz.\"],\n",
    "  [\"Strawberry Preserve\", \"1 lb.\"]\n",
    "]\n",
    "\n",
    "# price and weight are the two first columns\n",
    "# Remaining cols are nutrient/$ spent\n",
    "data = [\n",
    "  [36.0, 12600.0, 44.7, 1411.0, 2.0, 365.0, 0.0, 55.4, 33.3, 441.0, 0.0],\n",
    "  [14.1, 3217.0, 11.6, 418.0, 0.7, 54.0, 0.0, 3.2, 1.9, 68.0, 0.0],\n",
    "  [24.2, 3280.0, 11.8, 377.0, 14.4, 175.0, 0.0, 14.4, 8.8, 114.0, 0.0],\n",
    "  [7.1, 3194.0, 11.4, 252.0, 0.1, 56.0, 0.0, 13.5, 2.3, 68.0, 0.0],\n",
    "  [4.6, 9861.0, 36.0, 897.0, 1.7, 99.0, 30.9, 17.4, 7.9, 106.0, 0.0],\n",
    "  [8.5, 8005.0, 28.6, 680.0, 0.8, 80.0, 0.0, 10.6, 1.6, 110.0, 0.0],\n",
    "  [7.5, 6048.0, 21.2, 460.0, 0.6, 41.0, 0.0, 2.0, 4.8, 60.0, 0.0],\n",
    "  [7.1, 6389.0, 25.3, 907.0, 5.1, 341.0, 0.0, 37.1, 8.9, 64.0, 0.0],\n",
    "  [7.9, 5742.0, 15.6, 488.0, 2.5, 115.0, 0.0, 13.8, 8.5, 126.0, 0.0],\n",
    "  [9.1, 4985.0, 12.2, 484.0, 2.7, 125.0, 0.0, 13.9, 6.4, 160.0, 0.0],\n",
    "  [9.2, 4930.0, 12.4, 439.0, 1.1, 82.0, 0.0, 9.9, 3.0, 66.0, 0.0],\n",
    "  [24.8, 1829.0, 8.0, 130.0, 0.4, 31.0, 18.9, 2.8, 3.0, 17.0, 0.0],\n",
    "  [15.1, 3004.0, 12.5, 288.0, 0.5, 50.0, 0.0, 0.0, 0.0, 0.0, 0.0],\n",
    "  [11.0, 8867.0, 6.1, 310.0, 10.5, 18.0, 16.8, 4.0, 16.0, 7.0, 177.0],\n",
    "  [6.7, 6035.0, 8.4, 422.0, 15.1, 9.0, 26.0, 3.0, 23.5, 11.0, 60.0],\n",
    "  [20.8, 1473.0, 10.8, 9.0, 0.2, 3.0, 44.2, 0.0, 0.2, 2.0, 0.0],\n",
    "  [16.1, 2817.0, 20.6, 17.0, 0.6, 6.0, 55.8, 0.2, 0.0, 0.0, 0.0],\n",
    "  [32.6, 1857.0, 2.9, 238.0, 1.0, 52.0, 18.6, 2.8, 6.5, 1.0, 0.0],\n",
    "  [24.2, 1874.0, 7.4, 448.0, 16.4, 19.0, 28.1, 0.8, 10.3, 4.0, 0.0],\n",
    "  [14.1, 1689.0, 3.5, 49.0, 1.7, 3.0, 16.9, 0.6, 2.5, 0.0, 17.0],\n",
    "  [17.9, 2534.0, 15.7, 661.0, 1.0, 48.0, 0.0, 9.6, 8.1, 471.0, 0.0],\n",
    "  [16.7, 1198.0, 8.6, 18.0, 0.2, 8.0, 2.7, 0.4, 0.5, 0.0, 0.0],\n",
    "  [20.3, 2234.0, 20.1, 0.0, 0.0, 0.0, 0.0, 0.0, 0.0, 0.0, 0.0],\n",
    "  [9.8, 4628.0, 41.7, 0.0, 0.0, 0.0, 0.2, 0.0, 0.5, 5.0, 0.0],\n",
    "  [39.6, 1145.0, 2.9, 166.0, 0.1, 34.0, 0.2, 2.1, 2.9, 69.0, 0.0],\n",
    "  [36.4, 1246.0, 2.2, 214.0, 0.1, 32.0, 0.4, 2.5, 2.4, 87.0, 0.0],\n",
    "  [29.2, 1553.0, 3.4, 213.0, 0.1, 33.0, 0.0, 0.0, 2.0, 0.0, 0.0],\n",
    "  [22.6, 2007.0, 3.6, 309.0, 0.2, 46.0, 0.4, 1.0, 4.0, 120.0, 0.0],\n",
    "  [14.6, 3107.0, 8.5, 404.0, 0.2, 62.0, 0.0, 0.9, 0.0, 0.0, 0.0],\n",
    "  [26.8, 1692.0, 2.2, 333.0, 0.2, 139.0, 169.2, 6.4, 50.8, 316.0, 525.0],\n",
    "  [27.6, 1643.0, 3.1, 245.0, 0.1, 20.0, 0.0, 2.8, 3.0, 86.0, 0.0],\n",
    "  [36.6, 1239.0, 3.3, 140.0, 0.1, 15.0, 0.0, 1.7, 2.7, 54.0, 0.0],\n",
    "  [30.7, 1477.0, 3.5, 196.0, 0.2, 80.0, 0.0, 17.4, 2.7, 60.0, 0.0],\n",
    "  [24.2, 1874.0, 4.4, 249.0, 0.3, 37.0, 0.0, 18.2, 3.6, 79.0, 0.0],\n",
    "  [25.6, 1772.0, 10.4, 152.0, 0.2, 23.0, 0.0, 1.8, 1.8, 71.0, 0.0],\n",
    "  [27.4, 1655.0, 6.7, 212.0, 0.2, 31.0, 0.0, 9.9, 3.3, 50.0, 0.0],\n",
    "  [16.0, 2835.0, 18.8, 164.0, 0.1, 26.0, 0.0, 1.4, 1.8, 0.0, 0.0],\n",
    "  [30.3, 1497.0, 1.8, 184.0, 0.1, 30.0, 0.1, 0.9, 1.8, 68.0, 46.0],\n",
    "  [42.3, 1072.0, 1.7, 156.0, 0.1, 24.0, 0.0, 1.4, 2.4, 57.0, 0.0],\n",
    "  [13.0, 3489.0, 5.8, 705.0, 6.8, 45.0, 3.5, 1.0, 4.9, 209.0, 0.0],\n",
    "  [4.4, 9072.0, 5.8, 27.0, 0.5, 36.0, 7.3, 3.6, 2.7, 5.0, 544.0],\n",
    "  [6.1, 4982.0, 4.9, 60.0, 0.4, 30.0, 17.4, 2.5, 3.5, 28.0, 498.0],\n",
    "  [26.0, 2380.0, 1.0, 21.0, 0.5, 14.0, 0.0, 0.5, 0.0, 4.0, 952.0],\n",
    "  [30.9, 4439.0, 2.2, 40.0, 1.1, 18.0, 11.1, 3.6, 1.3, 10.0, 1993.0],\n",
    "  [7.1, 5750.0, 2.4, 138.0, 3.7, 80.0, 69.0, 4.3, 5.8, 37.0, 862.0],\n",
    "  [3.7, 8949.0, 2.6, 125.0, 4.0, 36.0, 7.2, 9.0, 4.5, 26.0, 5369.0],\n",
    "  [4.7, 6080.0, 2.7, 73.0, 2.8, 43.0, 188.5, 6.1, 4.3, 89.0, 608.0],\n",
    "  [7.3, 3915.0, 0.9, 51.0, 3.0, 23.0, 0.9, 1.4, 1.4, 9.0, 313.0],\n",
    "  [8.2, 2247.0, 0.4, 27.0, 1.1, 22.0, 112.4, 1.8, 3.4, 11.0, 449.0],\n",
    "  [3.6, 11844.0, 5.8, 166.0, 3.8, 59.0, 16.6, 4.7, 5.9, 21.0, 1184.0],\n",
    "  [34.0, 16810.0, 14.3, 336.0, 1.8, 118.0, 6.7, 29.4, 7.1, 198.0, 2522.0],\n",
    "  [8.1, 4592.0, 1.1, 106.0, 0.0, 138.0, 918.4, 5.7, 13.8, 33.0, 2755.0],\n",
    "  [5.1, 7649.0, 9.6, 138.0, 2.7, 54.0, 290.7, 8.4, 5.4, 83.0, 1912.0],\n",
    "  [16.8, 4894.0, 3.7, 20.0, 0.4, 10.0, 21.5, 0.5, 1.0, 31.0, 196.0],\n",
    "  [20.4, 4030.0, 3.0, 8.0, 0.3, 8.0, 0.8, 0.8, 0.8, 5.0, 81.0],\n",
    "  [21.3, 3993.0, 2.4, 16.0, 0.4, 8.0, 2.0, 2.8, 0.8, 7.0, 399.0],\n",
    "  [27.7, 1945.0, 0.4, 33.0, 0.3, 12.0, 16.3, 1.4, 2.1, 17.0, 272.0],\n",
    "  [10.0, 5386.0, 1.0, 54.0, 2.0, 65.0, 53.9, 1.6, 4.3, 32.0, 431.0],\n",
    "  [7.1, 6389.0, 7.5, 364.0, 4.0, 134.0, 3.5, 8.3, 7.7, 56.0, 0.0],\n",
    "  [10.4, 5452.0, 5.2, 136.0, 0.2, 16.0, 12.0, 1.6, 2.7, 42.0, 218.0],\n",
    "  [13.8, 4109.0, 2.3, 136.0, 0.6, 45.0, 34.9, 4.9, 2.5, 37.0, 370.0],\n",
    "  [8.6, 6263.0, 1.3, 63.0, 0.7, 38.0, 53.2, 3.4, 2.5, 36.0, 1253.0],\n",
    "  [7.6, 3917.0, 1.6, 71.0, 0.6, 43.0, 57.9, 3.5, 2.4, 67.0, 862.0],\n",
    "  [15.7, 2889.0, 8.5, 87.0, 1.7, 173.0, 86.8, 1.2, 4.3, 55.0, 57.0],\n",
    "  [9.0, 4284.0, 12.8, 99.0, 2.5, 154.0, 85.7, 3.9, 4.3, 65.0, 257.0],\n",
    "  [9.4, 4524.0, 13.5, 104.0, 2.5, 136.0, 4.5, 6.3, 1.4, 24.0, 136.0],\n",
    "  [7.9, 5742.0, 20.0, 1367.0, 4.2, 345.0, 2.9, 28.7, 18.4, 162.0, 0.0],\n",
    "  [8.9, 5097.0, 17.4, 1055.0, 3.7, 459.0, 5.1, 26.9, 38.2, 93.0, 0.0],\n",
    "  [5.9, 7688.0, 26.9, 1691.0, 11.4, 792.0, 0.0, 38.4, 24.6, 217.0, 0.0],\n",
    "  [22.4, 2025.0, 0.0, 0.0, 0.0, 0.0, 0.0, 4.0, 5.1, 50.0, 0.0],\n",
    "  [17.4, 652.0, 0.0, 0.0, 0.0, 0.0, 0.0, 0.0, 2.3, 42.0, 0.0],\n",
    "  [8.6, 2637.0, 8.7, 237.0, 3.0, 72.0, 0.0, 2.0, 11.9, 40.0, 0.0],\n",
    "  [16.2, 1400.0, 8.0, 77.0, 1.3, 39.0, 0.0, 0.9, 3.4, 14.0, 0.0],\n",
    "  [51.7, 8773.0, 34.9, 0.0, 0.0, 0.0, 0.0, 0.0, 0.0, 0.0, 0.0],\n",
    "  [13.7, 4996.0, 14.7, 0.0, 0.5, 74.0, 0.0, 0.0, 0.0, 5.0, 0.0],\n",
    "  [13.6, 3752.0, 9.0, 0.0, 10.3, 244.0, 0.0, 1.9, 7.5, 146.0, 0.0],\n",
    "  [20.5, 2213.0, 6.4, 11.0, 0.4, 7.0, 0.2, 0.2, 0.4, 3.0, 0.0]]\n",
    "\n",
    "absolute_data=np.matrix([i[:][0]*np.array(i[:][2::]) for i in data])\n",
    "food_costs=np.transpose(np.matrix([i[:][0] for i in data]))"
   ]
  },
  {
   "cell_type": "code",
   "execution_count": 187,
   "metadata": {
    "collapsed": false
   },
   "outputs": [],
   "source": [
    "#Instead of choosing individual ingredients I want to choose from a list of recipes\n",
    "#Lets make 10 meals from the above 77 ingredients (which makes A a 9x10 matrix)\n",
    "#For this I need a sparse 10x77 matrix\n",
    "\n",
    "recipes = ['Meal 1', 'Meal 2', 'Meal 3', 'Meal 4', 'Meal 5',\n",
    "          'Meal 6', 'Meal 7', 'Meal 8', 'Meal 9', 'Meal 10']\n",
    "\n",
    "A_sparse = np.zeros((10,77))\n",
    "amounts = [0,0,0,0,0,0,0,0,0,0,0.1,0.2,0.3,0.4,0.5]\n",
    "\n",
    "for i in range(A_sparse.shape[0]):\n",
    "    for j in range(A_sparse.shape[1]):\n",
    "        A_sparse[i,j] = random.choice(amounts)\n",
    "\n",
    "meal_costs=np.matmul(A_sparse,food_costs)\n",
    "meals = np.transpose(np.matmul(A_sparse,absolute_data))\n",
    "\n",
    "i=0\n",
    "for r in meals:\n",
    "    meals[i]=r/meal_costs[i]\n",
    "    i+=1"
   ]
  },
  {
   "cell_type": "code",
   "execution_count": null,
   "metadata": {
    "collapsed": false
   },
   "outputs": [],
   "source": []
  },
  {
   "cell_type": "code",
   "execution_count": null,
   "metadata": {
    "collapsed": false
   },
   "outputs": [],
   "source": []
  },
  {
   "cell_type": "code",
   "execution_count": 188,
   "metadata": {
    "collapsed": false
   },
   "outputs": [],
   "source": [
    "#Cost of each meal will just be sum of x vector so c=1\n",
    "c=np.ones(len(meal_costs))\n",
    "\n",
    "#Matrix A of vitamins for each food\n",
    "A = meals #np.transpose(np.matmul(A_sparse,np.matrix([i[:][2::] for i in data]))) \n",
    "\n",
    "#Recommended daily vitamin allowance for a moderately active man\n",
    "b = np.array([3.0, 70.0, 0.8, 12.0, 5.0, 1.8, 2.7, 18.0, 75.0])\n"
   ]
  },
  {
   "cell_type": "code",
   "execution_count": 216,
   "metadata": {
    "collapsed": false
   },
   "outputs": [
    {
     "name": "stdout",
     "output_type": "stream",
     "text": [
      "     fun: 0.39586151136505937\n",
      " message: 'Optimization terminated successfully.'\n",
      "     nit: 18\n",
      "   slack: array([  2.0219121 ,  24.95491358,   0.        ,  17.57134805,\n",
      "        11.19500269,   2.08450814,   0.        ,  14.32298094,  71.63604404])\n",
      "  status: 0\n",
      " success: True\n",
      "       x: array([ 0.        ,  0.        ,  0.        ,  0.        ,  0.        ,\n",
      "        0.00440486,  0.        ,  0.        ,  0.39145665,  0.        ])\n",
      "\n",
      "\n",
      "Eat  [[ 21719.]]  of  Meal 6  at $ 0.004405 per meal\n",
      "Eat  [[ 444.]]  of  Meal 9  at $ 0.391457 per meal\n",
      "\n",
      "Total daily cost = $ 0.4\n",
      "\n",
      "Total yearly cost = $ 144.59\n"
     ]
    }
   ],
   "source": [
    "#Minimisation problem with lower bound\n",
    "meal_ans = optimize.linprog(c, A_ub=-A, b_ub=-b, method='simplex')\n",
    "print(meal_ans)\n",
    "\n",
    "print(\"\\n\")\n",
    "\n",
    "#Print out the relevant meals\n",
    "for i in np.nonzero(meal_ans.x)[0]:\n",
    "    print(\"Eat \", np.around((meal_costs[i]/meal_ans.x[i]),0),\n",
    "          \" of \",recipes[i],\" at $\",round(meal_ans.x[i],6),\n",
    "         \"per meal\")\n",
    "\n",
    "print(\"\\nTotal daily cost = $\",round(sum(meal_ans.x),2))\n",
    "print(\"\\nTotal yearly cost = $\",round(sum(meal_ans.x*365.25),2))"
   ]
  },
  {
   "cell_type": "code",
   "execution_count": 219,
   "metadata": {
    "collapsed": false
   },
   "outputs": [
    {
     "name": "stdout",
     "output_type": "stream",
     "text": [
      "[[   5.0219121    94.95491358    0.8          29.57134805   16.19500269\n",
      "     3.88450814    2.7          32.32298094  146.63604404]]\n",
      "[  3.   70.    0.8  12.    5.    1.8   2.7  18.   75. ]\n",
      "[[  67.4    35.65    0.    146.43  223.9   115.81    0.     79.57   95.51]]\n"
     ]
    }
   ],
   "source": [
    "#How close are we to the requirements?\n",
    "print(np.matmul(A,meal_ans.x))\n",
    "print(b)\n",
    "print(np.around(100*abs((np.matmul(A,meal_ans.x)-b)/b),2))"
   ]
  },
  {
   "cell_type": "code",
   "execution_count": null,
   "metadata": {
    "collapsed": false
   },
   "outputs": [],
   "source": []
  },
  {
   "cell_type": "code",
   "execution_count": null,
   "metadata": {
    "collapsed": false
   },
   "outputs": [],
   "source": []
  },
  {
   "cell_type": "code",
   "execution_count": null,
   "metadata": {
    "collapsed": false
   },
   "outputs": [],
   "source": []
  },
  {
   "cell_type": "code",
   "execution_count": null,
   "metadata": {
    "collapsed": false
   },
   "outputs": [],
   "source": []
  },
  {
   "cell_type": "code",
   "execution_count": null,
   "metadata": {
    "collapsed": false
   },
   "outputs": [],
   "source": []
  },
  {
   "cell_type": "code",
   "execution_count": null,
   "metadata": {
    "collapsed": false
   },
   "outputs": [],
   "source": []
  },
  {
   "cell_type": "code",
   "execution_count": null,
   "metadata": {
    "collapsed": true
   },
   "outputs": [],
   "source": []
  }
 ],
 "metadata": {
  "kernelspec": {
   "display_name": "Python 3",
   "language": "python",
   "name": "python3"
  },
  "language_info": {
   "codemirror_mode": {
    "name": "ipython",
    "version": 3
   },
   "file_extension": ".py",
   "mimetype": "text/x-python",
   "name": "python",
   "nbconvert_exporter": "python",
   "pygments_lexer": "ipython3",
   "version": "3.5.2"
  }
 },
 "nbformat": 4,
 "nbformat_minor": 2
}
