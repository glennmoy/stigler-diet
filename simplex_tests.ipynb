{
 "cells": [
  {
   "cell_type": "code",
   "execution_count": 2,
   "metadata": {
    "collapsed": false
   },
   "outputs": [],
   "source": [
    "import math\n",
    "import numpy as np\n",
    "from numpy import matlib\n",
    "from scipy import optimize"
   ]
  },
  {
   "cell_type": "code",
   "execution_count": 34,
   "metadata": {
    "collapsed": false
   },
   "outputs": [
    {
     "name": "stdout",
     "output_type": "stream",
     "text": [
      "     fun: -8.0\n",
      " message: 'Optimization terminated successfully.'\n",
      "     nit: 1\n",
      "   slack: array([ 2.,  0.])\n",
      "  status: 0\n",
      " success: True\n",
      "       x: array([ 4.,  0.])\n"
     ]
    }
   ],
   "source": [
    "#Minimisation problem with upper bound\n",
    "A=np.matrix([[1,2],[3,2]])\n",
    "b=np.array([6,12])\n",
    "c=np.array([-2,1])\n",
    "\n",
    "ans=optimize.linprog(c, A_ub=A, b_ub=b, method='simplex')\n",
    "print(ans)"
   ]
  },
  {
   "cell_type": "code",
   "execution_count": 35,
   "metadata": {
    "collapsed": false
   },
   "outputs": [
    {
     "name": "stdout",
     "output_type": "stream",
     "text": [
      "     fun: -16.0\n",
      " message: 'Optimization terminated successfully.'\n",
      "     nit: 1\n",
      "   slack: array([ 0.,  1.])\n",
      "  status: 0\n",
      " success: True\n",
      "       x: array([ 0.,  4.])\n"
     ]
    }
   ],
   "source": [
    "#Maximisation problem with upper bound\n",
    "A=np.matrix([[1,1],[2,1]])\n",
    "b=np.array([4,5])\n",
    "c=np.array([3,4])\n",
    "\n",
    "ans=optimize.linprog(-c, A_ub=A, b_ub=b, method='simplex')\n",
    "print(ans)"
   ]
  },
  {
   "cell_type": "code",
   "execution_count": 36,
   "metadata": {
    "collapsed": false
   },
   "outputs": [
    {
     "name": "stdout",
     "output_type": "stream",
     "text": [
      "     fun: 8.0\n",
      " message: 'Optimization terminated successfully.'\n",
      "     nit: 4\n",
      "   slack: array([ 0.,  9.])\n",
      "  status: 0\n",
      " success: True\n",
      "       x: array([ 4.,  0.])\n"
     ]
    }
   ],
   "source": [
    "#Minimisation problem with lower bound\n",
    "A=np.matrix([[1,2],[3,2]])\n",
    "b=np.array([4,3])\n",
    "c=np.array([2,5])\n",
    "\n",
    "ans=optimize.linprog(c, A_ub=-A, b_ub=-b, method='simplex')\n",
    "print(ans)"
   ]
  },
  {
   "cell_type": "code",
   "execution_count": null,
   "metadata": {
    "collapsed": true
   },
   "outputs": [],
   "source": []
  }
 ],
 "metadata": {
  "kernelspec": {
   "display_name": "Python 2",
   "language": "python",
   "name": "python2"
  },
  "language_info": {
   "codemirror_mode": {
    "name": "ipython",
    "version": 2
   },
   "file_extension": ".py",
   "mimetype": "text/x-python",
   "name": "python",
   "nbconvert_exporter": "python",
   "pygments_lexer": "ipython2",
   "version": "2.7.13"
  }
 },
 "nbformat": 4,
 "nbformat_minor": 2
}
